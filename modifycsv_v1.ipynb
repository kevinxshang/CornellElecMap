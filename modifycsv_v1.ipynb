{
 "cells": [
  {
   "cell_type": "code",
   "execution_count": null,
   "metadata": {},
   "outputs": [],
   "source": [
    "import pandas as pd\n",
    "from decimal import Decimal\n",
    "\n",
    "# Load the CSV file\n",
    "csv_file_path = 'CleanedDataFiles/DuffieldHall_2023_test.csv'  # Update this to your actual file path\n",
    "df = pd.read_csv(csv_file_path)\n",
    "\n",
    "# Convert 'Chilled Water', 'Electric', and 'Steam' columns to Decimal\n",
    "df['Chilled Water'] = df['Chilled Water'].apply(Decimal)\n",
    "df['Electric'] = df['Electric'].apply(Decimal)\n",
    "df['Steam'] = df['Steam'].apply(Decimal)\n",
    "\n",
    "# Display the first few rows to verify\n",
    "df.head()\n"
   ]
  }
 ],
 "metadata": {
  "language_info": {
   "name": "python"
  }
 },
 "nbformat": 4,
 "nbformat_minor": 2
}
